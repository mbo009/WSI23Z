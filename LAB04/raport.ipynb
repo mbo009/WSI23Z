{
 "cells": [
  {
   "cell_type": "markdown",
   "metadata": {},
   "source": [
    "# WSI LAB04 Regresja i klasyfikacja"
   ]
  },
  {
   "cell_type": "markdown",
   "metadata": {},
   "source": [
    "### Miłosz Cieśla 325154 <br>"
   ]
  },
  {
   "cell_type": "markdown",
   "metadata": {},
   "source": [
    "## Cel eksperymentu \n",
    "- Sprawdzenie przewidywania wyników za pomocą tworzenia drzew decyzyjnych algorytmem ID3.\n",
    "- Zbadanie wpływu parametru maksymalnej głębokości drzew na wyniki.\n",
    "- Znalezienie najlepszej głębokości dla zbioru danych Cardio Vascular Disease Detection.\n",
    "- Przetestowanie zachowania algorytmu dla niestandardowej liczby kolumn"
   ]
  },
  {
   "cell_type": "markdown",
   "metadata": {},
   "source": [
    "## Decyzje projektowe\n",
    "- Zdecydowałem się na wyliczanie \"information gain\" z pomocą entropii.\n",
    "- Dyskretyzuje dane wyliczając część całkowitą z dzielenia:\n",
    "    - Wiek // 365\n",
    "    - Wzrost // 5\n",
    "    - Waga // 5\n",
    "    - Ciśnienie skurczowe // 2\n",
    "    - Ciśnienie rozkurczowe // 2\n",
    "- W przypadku za małej liczby kolumn zwracam własny wyjątek dla większej czytelności\n",
    "\n"
   ]
  },
  {
   "cell_type": "markdown",
   "metadata": {},
   "source": [
    "## Eksperyment - sprawdzenie działania dla brakujących lub dodatkowych parametrów"
   ]
  },
  {
   "cell_type": "markdown",
   "metadata": {},
   "source": [
    "W ramach tego eksperymentu, używam utworzonej przeze mnie funkcji 'checkAccuracy' która wykonuje operacje 'fit' w moim solverze, a następnie rozszerza bądź przycina dane w zależności od podanych mu parametrów, uruchamiając z nimi funkcję przewidywania."
   ]
  },
  {
   "cell_type": "markdown",
   "metadata": {},
   "source": [
    "### Potrzebne importy"
   ]
  },
  {
   "cell_type": "code",
   "execution_count": 1,
   "metadata": {},
   "outputs": [],
   "source": [
    "from testingFunctions import readCSV, dataDiscretization, checkAccuracy\n",
    "import pandas as pd\n",
    "X, Y = readCSV(\"cardio_train.csv\")\n",
    "X = dataDiscretization(X)"
   ]
  },
  {
   "cell_type": "markdown",
   "metadata": {},
   "source": [
    "Dla za małej liczby kolumn przy przewidywaniu moja funkcja zwraca wyjątek:"
   ]
  },
  {
   "cell_type": "code",
   "execution_count": 3,
   "metadata": {},
   "outputs": [
    {
     "name": "stdout",
     "output_type": "stream",
     "text": [
      "Not enough columns passed as an argument\n"
     ]
    }
   ],
   "source": [
    "try:\n",
    "    checkAccuracy(X, Y, 6, -1, 0)\n",
    "except Exception as e:\n",
    "    print(e)"
   ]
  },
  {
   "cell_type": "markdown",
   "metadata": {},
   "source": [
    "Dokładność wyników dla przewidywania z danymi posiadającymi zbyt dużą liczbę kolumn:"
   ]
  },
  {
   "cell_type": "code",
   "execution_count": 2,
   "metadata": {},
   "outputs": [
    {
     "data": {
      "text/html": [
       "<div>\n",
       "<style scoped>\n",
       "    .dataframe tbody tr th:only-of-type {\n",
       "        vertical-align: middle;\n",
       "    }\n",
       "\n",
       "    .dataframe tbody tr th {\n",
       "        vertical-align: top;\n",
       "    }\n",
       "\n",
       "    .dataframe thead th {\n",
       "        text-align: right;\n",
       "    }\n",
       "</style>\n",
       "<table border=\"1\" class=\"dataframe\">\n",
       "  <thead>\n",
       "    <tr style=\"text-align: right;\">\n",
       "      <th></th>\n",
       "      <th>Accuracy(%)</th>\n",
       "    </tr>\n",
       "    <tr>\n",
       "      <th>Columns added</th>\n",
       "      <th></th>\n",
       "    </tr>\n",
       "  </thead>\n",
       "  <tbody>\n",
       "    <tr>\n",
       "      <th>0</th>\n",
       "      <td>73.603556</td>\n",
       "    </tr>\n",
       "    <tr>\n",
       "      <th>1</th>\n",
       "      <td>73.603556</td>\n",
       "    </tr>\n",
       "    <tr>\n",
       "      <th>2</th>\n",
       "      <td>73.603556</td>\n",
       "    </tr>\n",
       "    <tr>\n",
       "      <th>3</th>\n",
       "      <td>73.603556</td>\n",
       "    </tr>\n",
       "    <tr>\n",
       "      <th>4</th>\n",
       "      <td>73.603556</td>\n",
       "    </tr>\n",
       "    <tr>\n",
       "      <th>5</th>\n",
       "      <td>73.603556</td>\n",
       "    </tr>\n",
       "    <tr>\n",
       "      <th>6</th>\n",
       "      <td>73.603556</td>\n",
       "    </tr>\n",
       "    <tr>\n",
       "      <th>7</th>\n",
       "      <td>73.603556</td>\n",
       "    </tr>\n",
       "  </tbody>\n",
       "</table>\n",
       "</div>"
      ],
      "text/plain": [
       "               Accuracy(%)\n",
       "Columns added             \n",
       "0                73.603556\n",
       "1                73.603556\n",
       "2                73.603556\n",
       "3                73.603556\n",
       "4                73.603556\n",
       "5                73.603556\n",
       "6                73.603556\n",
       "7                73.603556"
      ]
     },
     "execution_count": 2,
     "metadata": {},
     "output_type": "execute_result"
    }
   ],
   "source": [
    "data = checkAccuracy(X, Y, 6, 0, 8)\n",
    "columns = [\"Accuracy(%)\"]\n",
    "df = pd.DataFrame(data, columns=columns)\n",
    "df.index.name = 'Columns added'\n",
    "df"
   ]
  },
  {
   "cell_type": "markdown",
   "metadata": {},
   "source": [
    "Dla dowolnej liczby dodanych kolumn, możemy zauważyć taką samą dokładność. Wynika to z tego, że wszystkie nasze węzły warunkowe biorą pod uwagę tylko kolumny uwzględnione przy tworzeniu drzewa."
   ]
  },
  {
   "cell_type": "markdown",
   "metadata": {},
   "source": [
    "## Eksperyment - badanie wpływu maksymalnej głebokości drzew"
   ]
  },
  {
   "cell_type": "markdown",
   "metadata": {},
   "source": [
    "W celu zbadania tego parametru, zdecydowałem się na uruchomienie 50 razy mySolver'a z różnymi wartościami wysokości drzewa używając zbioru testującego uzyskanego z funkcji train_test_split z biblioteki sckikit learn.\n",
    "Dodatkowo dla porównania, również uruchamiam na tym samym wcześniej utworzonym drzewie przewidywanie dla zbioru walidacyjnego. \n"
   ]
  },
  {
   "cell_type": "markdown",
   "metadata": {},
   "source": [
    "### Potrzebne importy"
   ]
  },
  {
   "cell_type": "code",
   "execution_count": 2,
   "metadata": {},
   "outputs": [],
   "source": [
    "from testingFunctions import getDepthAccuracy, pltAccuracy"
   ]
  },
  {
   "cell_type": "code",
   "execution_count": 6,
   "metadata": {},
   "outputs": [
    {
     "data": {
      "image/png": "[encoded data removed]",
      "text/plain": [
       "<Figure size 640x480 with 1 Axes>"
      ]
     },
     "metadata": {},
     "output_type": "display_data"
    }
   ],
   "source": [
    "accuracyData = getDepthAccuracy(50, X, Y, 123456, True)\n",
    "pltAccuracy(accuracyData)"
   ]
  },
  {
   "cell_type": "markdown",
   "metadata": {},
   "source": [
    "# Wnioski"
   ]
  },
  {
   "cell_type": "markdown",
   "metadata": {},
   "source": [
    "### Sprawdzenie poprawnego działania algorytmu"
   ]
  },
  {
   "cell_type": "markdown",
   "metadata": {},
   "source": [
    "Zastosowanie zbioru trenującego użytego do utworzenia drzewa w funkcji przewidywania, pozwala nam sprawdzić czy algorytm działa poprawnie.\n",
    "Z analizy wykresu, można w takim razie wywnioskować, poprawność mojej implementacji. Przy wysokiej głębi drzewa dokładność wyników zbliża się do 100%."
   ]
  },
  {
   "cell_type": "markdown",
   "metadata": {},
   "source": [
    "### Najlepsza wartość"
   ]
  },
  {
   "cell_type": "markdown",
   "metadata": {},
   "source": [
    "Jak możemy zauważyć, dla wybranych przez nas danych funkcja osiąga najlepsze wartości w przedziale: <4,8>.\n",
    "Poniżej depth=4 widzimy sytuacje under-fittingu natomiast powyżej 8 widzimy tendencję spadkową ponieważ zaczynamy szukać zależności tam gdzie ich nie ma.\n",
    "Dla niektórych wartości wysokości drzewa miejscowo widzimy wzrosty, niestety nie oznaczają one poprawy stanu, dalej jest ono w sytuacji over-fittingu. Te przyrosty wynikają najprawdopodobniej z tego, że 'Node' warunkowy dodany w tej głębii znalazł poprawną zależność, dla niewielkiej grupy przypadków, lecz przy tworzeniu drzew o większej głębi zostaje to zatarte.\n"
   ]
  },
  {
   "cell_type": "markdown",
   "metadata": {},
   "source": [
    "### Różnice w kierunkach wzrostu między zbiorami"
   ]
  },
  {
   "cell_type": "markdown",
   "metadata": {},
   "source": [
    "Może budzić zainteresowanie fakt, dlaczego jedna z kolekcji wykazuje poprawę efektywności, podczas gdy druga wykazuje tendencję do pogorszenia się wraz z rosnącym współczynnikiem głębokości. Wynika to z tego, że przy zwiększeniu precyzji drzewo decyzyjne ID3, tworzy przypadki zależne całkowicie od zbioru na którym było trenowane, co oddala je od szerszej perspektywy która jest nam potrzebna do przewidywania.   "
   ]
  }
 ],
 "metadata": {
  "kernelspec": {
   "display_name": "Python 3",
   "language": "python",
   "name": "python3"
  },
  "language_info": {
   "codemirror_mode": {
    "name": "ipython",
    "version": 3
   },
   "file_extension": ".py",
   "mimetype": "text/x-python",
   "name": "python",
   "nbconvert_exporter": "python",
   "pygments_lexer": "ipython3",
   "version": "3.10.5"
  }
 },
 "nbformat": 4,
 "nbformat_minor": 2
}
