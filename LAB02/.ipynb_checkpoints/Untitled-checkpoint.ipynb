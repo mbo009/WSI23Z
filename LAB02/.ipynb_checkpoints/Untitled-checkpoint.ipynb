{
 "cells": [
  {
   "cell_type": "markdown",
   "id": "33bfe9c8-c3f7-453e-91ae-6f769d0e6d25",
   "metadata": {},
   "source": [
    "# WSI LAB02 Algorytm genetyczny"
   ]
  },
  {
   "cell_type": "markdown",
   "id": "80626292-0725-4d39-b5f2-e4a4aa50159f",
   "metadata": {},
   "source": [
    "### Miłosz Cieśla 325154 <br>"
   ]
  },
  {
   "cell_type": "markdown",
   "id": "f57f48b9-bf56-4953-bed0-bc6c6a670529",
   "metadata": {},
   "source": [
    "## Cel eksperymentu \n",
    "- Przetestowanie działania algorytmu genetycznego na zadanej funkcji(symulacja lądowania rakiety)\n",
    "- Znalezienie optymalnych i działających parametrów dla niej.\n",
    "- Zbadanie wpływu parametru odpowiedzialnego za mutację"
   ]
  },
  {
   "cell_type": "code",
   "execution_count": null,
   "id": "5efef677-07e4-49cf-b264-0ebd0262c689",
   "metadata": {},
   "outputs": [],
   "source": []
  }
 ],
 "metadata": {
  "kernelspec": {
   "display_name": "Python 3 (ipykernel)",
   "language": "python",
   "name": "python3"
  },
  "language_info": {
   "codemirror_mode": {
    "name": "ipython",
    "version": 3
   },
   "file_extension": ".py",
   "mimetype": "text/x-python",
   "name": "python",
   "nbconvert_exporter": "python",
   "pygments_lexer": "ipython3",
   "version": "3.10.5"
  }
 },
 "nbformat": 4,
 "nbformat_minor": 5
}
