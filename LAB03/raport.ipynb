{
 "cells": [
  {
   "cell_type": "markdown",
   "metadata": {},
   "source": [
    "# WSI LAB03 Algorytm minimax"
   ]
  },
  {
   "cell_type": "markdown",
   "metadata": {},
   "source": [
    "### Miłosz Cieśla 325154 <br>"
   ]
  },
  {
   "cell_type": "markdown",
   "metadata": {},
   "source": [
    "## Cele eksperymentów: \n",
    "- Przetestowanie działania algorytmu miniMax\n",
    "- Porównanie jakości ruchów dla różnych głębokości przeszukiwania"
   ]
  },
  {
   "cell_type": "markdown",
   "metadata": {},
   "source": [
    "## Decyzje projektowe:\n",
    "- Stworzyłem klasę node aby zapewnić uniwersalność algorytmu minimax\n",
    "- Jako moją heurystykę przyjąłem punktacje zależną od ilości nieprzerwanych pozycji zajętych przez gracza na planszy, które mają potencjał prowadzenia do wygranej.\n",
    "- Losowanie ruchu następuje w linii zwracania wartości funkcji.\n"
   ]
  },
  {
   "cell_type": "markdown",
   "metadata": {},
   "source": [
    "## Sprawdzenie działania algorytmu\n",
    "W celu sprawdzenia implementacji wykonałem symulację 1000 rozgrywek. <br>\n",
    "Graczem pierwszym będzie algorytm minimax z głębią przeszukiwań równą 5, natomiast gracz drugi będzie wykonywał losowo wybrane ruchy."
   ]
  },
  {
   "cell_type": "markdown",
   "metadata": {},
   "source": [
    "### Potrzebne importy"
   ]
  },
  {
   "cell_type": "code",
   "execution_count": 1,
   "metadata": {},
   "outputs": [],
   "source": [
    "from testingFunctions import simulateMultipleGames, analyzeMovesQuality, pltMoveValues, prepareMovesTable\n",
    "import pandas as pd"
   ]
  },
  {
   "cell_type": "code",
   "execution_count": 6,
   "metadata": {},
   "outputs": [
    {
     "data": {
      "text/html": [
       "<div>\n",
       "<style scoped>\n",
       "    .dataframe tbody tr th:only-of-type {\n",
       "        vertical-align: middle;\n",
       "    }\n",
       "\n",
       "    .dataframe tbody tr th {\n",
       "        vertical-align: top;\n",
       "    }\n",
       "\n",
       "    .dataframe thead th {\n",
       "        text-align: right;\n",
       "    }\n",
       "</style>\n",
       "<table border=\"1\" class=\"dataframe\">\n",
       "  <thead>\n",
       "    <tr style=\"text-align: right;\">\n",
       "      <th></th>\n",
       "      <th>Game winner</th>\n",
       "      <th>How many times</th>\n",
       "    </tr>\n",
       "  </thead>\n",
       "  <tbody>\n",
       "    <tr>\n",
       "      <th>0</th>\n",
       "      <td>Player 1</td>\n",
       "      <td>984</td>\n",
       "    </tr>\n",
       "    <tr>\n",
       "      <th>1</th>\n",
       "      <td>Player 2</td>\n",
       "      <td>15</td>\n",
       "    </tr>\n",
       "    <tr>\n",
       "      <th>2</th>\n",
       "      <td>Draws</td>\n",
       "      <td>1</td>\n",
       "    </tr>\n",
       "  </tbody>\n",
       "</table>\n",
       "</div>"
      ],
      "text/plain": [
       "  Game winner  How many times\n",
       "0    Player 1             984\n",
       "1    Player 2              15\n",
       "2       Draws               1"
      ]
     },
     "execution_count": 6,
     "metadata": {},
     "output_type": "execute_result"
    }
   ],
   "source": [
    "p1, p2, draws = simulateMultipleGames(1000, [False, 5, 0, 20], [True])\n",
    "data = [[\"Player 1\", p1],\n",
    "        [\"Player 2\", p2],\n",
    "        [\"Draws\", draws]]\n",
    "columns = [\"Game winner\", \"How many times\"]\n",
    "df = pd.DataFrame(data, columns=columns)\n",
    "df"
   ]
  },
  {
   "cell_type": "markdown",
   "metadata": {},
   "source": [
    "## Badanie wpływu głębi przeszukiwań na jakość ruchów"
   ]
  },
  {
   "cell_type": "markdown",
   "metadata": {},
   "source": [
    "Pierwszym wybranym przeze mnie sposobem na zbadanie wpływu głębi na jakość ruchów, jest przeprowadzenie 100 gier w których algorytmy o różnych parametrach będą wykonywać rozgrywki przeciwko sobie."
   ]
  },
  {
   "cell_type": "code",
   "execution_count": 4,
   "metadata": {},
   "outputs": [],
   "source": [
    "game = simulateMultipleGames(100, [False, 1, 0, 30], [False, 3, 0, 30], True)\n",
    "game2 = simulateMultipleGames(100, [False, 2, 0, 30], [False, 3, 0, 30], True)\n",
    "game3 = simulateMultipleGames(100, [False, 4, 0, 30], [False, 3, 0, 30], True)\n",
    "game4 = simulateMultipleGames(100, [False, 5, 0, 30], [False, 3, 0, 30], True)"
   ]
  },
  {
   "cell_type": "code",
   "execution_count": 6,
   "metadata": {},
   "outputs": [
    {
     "data": {
      "text/html": [
       "<div>\n",
       "<style scoped>\n",
       "    .dataframe tbody tr th:only-of-type {\n",
       "        vertical-align: middle;\n",
       "    }\n",
       "\n",
       "    .dataframe tbody tr th {\n",
       "        vertical-align: top;\n",
       "    }\n",
       "\n",
       "    .dataframe thead th {\n",
       "        text-align: right;\n",
       "    }\n",
       "</style>\n",
       "<table border=\"1\" class=\"dataframe\">\n",
       "  <thead>\n",
       "    <tr style=\"text-align: right;\">\n",
       "      <th></th>\n",
       "      <th>P1 Depth</th>\n",
       "      <th>P2 Depth</th>\n",
       "      <th>P1 Wins</th>\n",
       "      <th>P2 Wins</th>\n",
       "      <th>Draws</th>\n",
       "    </tr>\n",
       "  </thead>\n",
       "  <tbody>\n",
       "    <tr>\n",
       "      <th>0</th>\n",
       "      <td>1</td>\n",
       "      <td>3</td>\n",
       "      <td>74</td>\n",
       "      <td>26</td>\n",
       "      <td>0</td>\n",
       "    </tr>\n",
       "    <tr>\n",
       "      <th>1</th>\n",
       "      <td>2</td>\n",
       "      <td>3</td>\n",
       "      <td>81</td>\n",
       "      <td>19</td>\n",
       "      <td>0</td>\n",
       "    </tr>\n",
       "    <tr>\n",
       "      <th>2</th>\n",
       "      <td>4</td>\n",
       "      <td>3</td>\n",
       "      <td>81</td>\n",
       "      <td>19</td>\n",
       "      <td>0</td>\n",
       "    </tr>\n",
       "    <tr>\n",
       "      <th>3</th>\n",
       "      <td>5</td>\n",
       "      <td>3</td>\n",
       "      <td>85</td>\n",
       "      <td>14</td>\n",
       "      <td>1</td>\n",
       "    </tr>\n",
       "  </tbody>\n",
       "</table>\n",
       "</div>"
      ],
      "text/plain": [
       "   P1 Depth  P2 Depth  P1 Wins  P2 Wins  Draws\n",
       "0         1         3       74       26      0\n",
       "1         2         3       81       19      0\n",
       "2         4         3       81       19      0\n",
       "3         5         3       85       14      1"
      ]
     },
     "execution_count": 6,
     "metadata": {},
     "output_type": "execute_result"
    }
   ],
   "source": [
    "data = [[1, 3, game[0], game[1], game[2]],\n",
    "        [2, 3, game2[0], game2[1], game2[2]],\n",
    "        [4, 3, game3[0], game3[1], game3[2]],\n",
    "        [5, 3, game4[0], game4[1], game4[2]]]\n",
    "columns = [\"P1 Depth\", \"P2 Depth\", \"P1 Wins\", \"P2 Wins\", \"Draws\"]\n",
    "df = pd.DataFrame(data, columns=columns)\n",
    "df"
   ]
  },
  {
   "cell_type": "markdown",
   "metadata": {},
   "source": [
    "### Uwaga do eksperymentu\n",
    "Przy sporządzeniu wyników należy wziąć pod uwagę, że gracz 1 ma przewagę ponieważ zaczyna rozgrywkę. Z tego powodu w powyższych danych gracze rozpoczynali na zmianę. Poniżej załączam jak wyglądałby przypadek 1000 rozgrywek 2 botów o takich samych parametrach, w którym nie zostałby ten zabieg wykonany."
   ]
  },
  {
   "cell_type": "code",
   "execution_count": 5,
   "metadata": {},
   "outputs": [
    {
     "data": {
      "text/html": [
       "<div>\n",
       "<style scoped>\n",
       "    .dataframe tbody tr th:only-of-type {\n",
       "        vertical-align: middle;\n",
       "    }\n",
       "\n",
       "    .dataframe tbody tr th {\n",
       "        vertical-align: top;\n",
       "    }\n",
       "\n",
       "    .dataframe thead th {\n",
       "        text-align: right;\n",
       "    }\n",
       "</style>\n",
       "<table border=\"1\" class=\"dataframe\">\n",
       "  <thead>\n",
       "    <tr style=\"text-align: right;\">\n",
       "      <th></th>\n",
       "      <th>Game winner</th>\n",
       "      <th>How many times</th>\n",
       "    </tr>\n",
       "  </thead>\n",
       "  <tbody>\n",
       "    <tr>\n",
       "      <th>0</th>\n",
       "      <td>Player 1</td>\n",
       "      <td>594</td>\n",
       "    </tr>\n",
       "    <tr>\n",
       "      <th>1</th>\n",
       "      <td>Player 2</td>\n",
       "      <td>404</td>\n",
       "    </tr>\n",
       "    <tr>\n",
       "      <th>2</th>\n",
       "      <td>Draws</td>\n",
       "      <td>2</td>\n",
       "    </tr>\n",
       "  </tbody>\n",
       "</table>\n",
       "</div>"
      ],
      "text/plain": [
       "  Game winner  How many times\n",
       "0    Player 1             594\n",
       "1    Player 2             404\n",
       "2       Draws               2"
      ]
     },
     "execution_count": 5,
     "metadata": {},
     "output_type": "execute_result"
    }
   ],
   "source": [
    "p1, p2, draws = simulateMultipleGames(1000, [False, 3, 0, 20], [False, 3, 0, 20])\n",
    "data = [[\"Player 1\", p1],\n",
    "        [\"Player 2\", p2],\n",
    "        [\"Draws\", draws]]\n",
    "columns = [\"Game winner\", \"How many times\"]\n",
    "df = pd.DataFrame(data, columns=columns)\n",
    "df"
   ]
  },
  {
   "cell_type": "markdown",
   "metadata": {},
   "source": [
    "## Przebieg wartości zwracanych przez funkcje podczas rozgrywki"
   ]
  },
  {
   "cell_type": "markdown",
   "metadata": {},
   "source": [
    "Do tego eksperymentu używamy symulacji rozgrywki w której przeciwko sobie grają 2 algorytmy o takim samym parametrze głębi przeszukiwań.\n",
    "Dla każdego ruchu gracza 1 oprócz minimax zwracającego ruch który ma się wykonać, działają dodatkowo algorytmy minimax pokazujące jakiej jakości ruch zostałby znaleziony w przypadku wybrania innej głębi."
   ]
  },
  {
   "cell_type": "code",
   "execution_count": 3,
   "metadata": {},
   "outputs": [
    {
     "data": {
      "image/png": "[encoded data removed]",
      "text/plain": [
       "<Figure size 640x480 with 1 Axes>"
      ]
     },
     "metadata": {},
     "output_type": "display_data"
    },
    {
     "data": {
      "image/png": "[encoded data removed]",
      "text/plain": [
       "<Figure size 640x480 with 1 Axes>"
      ]
     },
     "metadata": {},
     "output_type": "display_data"
    }
   ],
   "source": [
    "colors = ['red', 'green', 'blue', 'purple', 'cyan', 'black']\n",
    "moveValues, movesArr = analyzeMovesQuality(6)\n",
    "pltMoveValues(moveValues[:3], colors, \"Quality in each move\", True)\n",
    "pltMoveValues(moveValues[3:], colors[3:], \"Quality in each move\", True, 3)"
   ]
  },
  {
   "cell_type": "code",
   "execution_count": 4,
   "metadata": {},
   "outputs": [
    {
     "data": {
      "text/html": [
       "<style type=\"text/css\">\n",
       "#T_56ac0 td {\n",
       "  text-align: center;\n",
       "}\n",
       "#T_56ac0 th {\n",
       "  text-align: center;\n",
       "}\n",
       "</style>\n",
       "<table id=\"T_56ac0\">\n",
       "  <thead>\n",
       "    <tr>\n",
       "      <th class=\"index_name level0\" >Iteration</th>\n",
       "      <th id=\"T_56ac0_level0_col0\" class=\"col_heading level0 col0\" colspan=\"6\">Moves picked by minimax with depth:</th>\n",
       "    </tr>\n",
       "    <tr>\n",
       "      <th class=\"index_name level1\" ></th>\n",
       "      <th id=\"T_56ac0_level1_col0\" class=\"col_heading level1 col0\" >1</th>\n",
       "      <th id=\"T_56ac0_level1_col1\" class=\"col_heading level1 col1\" >2</th>\n",
       "      <th id=\"T_56ac0_level1_col2\" class=\"col_heading level1 col2\" >3</th>\n",
       "      <th id=\"T_56ac0_level1_col3\" class=\"col_heading level1 col3\" >4</th>\n",
       "      <th id=\"T_56ac0_level1_col4\" class=\"col_heading level1 col4\" >5</th>\n",
       "      <th id=\"T_56ac0_level1_col5\" class=\"col_heading level1 col5\" >6</th>\n",
       "    </tr>\n",
       "  </thead>\n",
       "  <tbody>\n",
       "    <tr>\n",
       "      <th id=\"T_56ac0_level0_row0\" class=\"row_heading level0 row0\" >1</th>\n",
       "      <td id=\"T_56ac0_row0_col0\" class=\"data row0 col0\" >0</td>\n",
       "      <td id=\"T_56ac0_row0_col1\" class=\"data row0 col1\" >3</td>\n",
       "      <td id=\"T_56ac0_row0_col2\" class=\"data row0 col2\" >4</td>\n",
       "      <td id=\"T_56ac0_row0_col3\" class=\"data row0 col3\" >0</td>\n",
       "      <td id=\"T_56ac0_row0_col4\" class=\"data row0 col4\" >4</td>\n",
       "      <td id=\"T_56ac0_row0_col5\" class=\"data row0 col5\" >3</td>\n",
       "    </tr>\n",
       "    <tr>\n",
       "      <th id=\"T_56ac0_level0_row1\" class=\"row_heading level0 row1\" >2</th>\n",
       "      <td id=\"T_56ac0_row1_col0\" class=\"data row1 col0\" >3</td>\n",
       "      <td id=\"T_56ac0_row1_col1\" class=\"data row1 col1\" >2</td>\n",
       "      <td id=\"T_56ac0_row1_col2\" class=\"data row1 col2\" >3</td>\n",
       "      <td id=\"T_56ac0_row1_col3\" class=\"data row1 col3\" >4</td>\n",
       "      <td id=\"T_56ac0_row1_col4\" class=\"data row1 col4\" >3</td>\n",
       "      <td id=\"T_56ac0_row1_col5\" class=\"data row1 col5\" >5</td>\n",
       "    </tr>\n",
       "    <tr>\n",
       "      <th id=\"T_56ac0_level0_row2\" class=\"row_heading level0 row2\" >3</th>\n",
       "      <td id=\"T_56ac0_row2_col0\" class=\"data row2 col0\" >2</td>\n",
       "      <td id=\"T_56ac0_row2_col1\" class=\"data row2 col1\" >2</td>\n",
       "      <td id=\"T_56ac0_row2_col2\" class=\"data row2 col2\" >4</td>\n",
       "      <td id=\"T_56ac0_row2_col3\" class=\"data row2 col3\" >3</td>\n",
       "      <td id=\"T_56ac0_row2_col4\" class=\"data row2 col4\" >2</td>\n",
       "      <td id=\"T_56ac0_row2_col5\" class=\"data row2 col5\" >3</td>\n",
       "    </tr>\n",
       "    <tr>\n",
       "      <th id=\"T_56ac0_level0_row3\" class=\"row_heading level0 row3\" >4</th>\n",
       "      <td id=\"T_56ac0_row3_col0\" class=\"data row3 col0\" >2</td>\n",
       "      <td id=\"T_56ac0_row3_col1\" class=\"data row3 col1\" >2</td>\n",
       "      <td id=\"T_56ac0_row3_col2\" class=\"data row3 col2\" >2</td>\n",
       "      <td id=\"T_56ac0_row3_col3\" class=\"data row3 col3\" >5</td>\n",
       "      <td id=\"T_56ac0_row3_col4\" class=\"data row3 col4\" >3</td>\n",
       "      <td id=\"T_56ac0_row3_col5\" class=\"data row3 col5\" >5</td>\n",
       "    </tr>\n",
       "    <tr>\n",
       "      <th id=\"T_56ac0_level0_row4\" class=\"row_heading level0 row4\" >5</th>\n",
       "      <td id=\"T_56ac0_row4_col0\" class=\"data row4 col0\" >2</td>\n",
       "      <td id=\"T_56ac0_row4_col1\" class=\"data row4 col1\" >2</td>\n",
       "      <td id=\"T_56ac0_row4_col2\" class=\"data row4 col2\" >2</td>\n",
       "      <td id=\"T_56ac0_row4_col3\" class=\"data row4 col3\" >3</td>\n",
       "      <td id=\"T_56ac0_row4_col4\" class=\"data row4 col4\" >3</td>\n",
       "      <td id=\"T_56ac0_row4_col5\" class=\"data row4 col5\" >2</td>\n",
       "    </tr>\n",
       "    <tr>\n",
       "      <th id=\"T_56ac0_level0_row5\" class=\"row_heading level0 row5\" >6</th>\n",
       "      <td id=\"T_56ac0_row5_col0\" class=\"data row5 col0\" >2</td>\n",
       "      <td id=\"T_56ac0_row5_col1\" class=\"data row5 col1\" >3</td>\n",
       "      <td id=\"T_56ac0_row5_col2\" class=\"data row5 col2\" >2</td>\n",
       "      <td id=\"T_56ac0_row5_col3\" class=\"data row5 col3\" >2</td>\n",
       "      <td id=\"T_56ac0_row5_col4\" class=\"data row5 col4\" >5</td>\n",
       "      <td id=\"T_56ac0_row5_col5\" class=\"data row5 col5\" >5</td>\n",
       "    </tr>\n",
       "    <tr>\n",
       "      <th id=\"T_56ac0_level0_row6\" class=\"row_heading level0 row6\" >7</th>\n",
       "      <td id=\"T_56ac0_row6_col0\" class=\"data row6 col0\" >3</td>\n",
       "      <td id=\"T_56ac0_row6_col1\" class=\"data row6 col1\" >2</td>\n",
       "      <td id=\"T_56ac0_row6_col2\" class=\"data row6 col2\" >2</td>\n",
       "      <td id=\"T_56ac0_row6_col3\" class=\"data row6 col3\" >3</td>\n",
       "      <td id=\"T_56ac0_row6_col4\" class=\"data row6 col4\" >5</td>\n",
       "      <td id=\"T_56ac0_row6_col5\" class=\"data row6 col5\" >4</td>\n",
       "    </tr>\n",
       "    <tr>\n",
       "      <th id=\"T_56ac0_level0_row7\" class=\"row_heading level0 row7\" >8</th>\n",
       "      <td id=\"T_56ac0_row7_col0\" class=\"data row7 col0\" >4</td>\n",
       "      <td id=\"T_56ac0_row7_col1\" class=\"data row7 col1\" >5</td>\n",
       "      <td id=\"T_56ac0_row7_col2\" class=\"data row7 col2\" >2</td>\n",
       "      <td id=\"T_56ac0_row7_col3\" class=\"data row7 col3\" >1</td>\n",
       "      <td id=\"T_56ac0_row7_col4\" class=\"data row7 col4\" >5</td>\n",
       "      <td id=\"T_56ac0_row7_col5\" class=\"data row7 col5\" >5</td>\n",
       "    </tr>\n",
       "    <tr>\n",
       "      <th id=\"T_56ac0_level0_row8\" class=\"row_heading level0 row8\" >9</th>\n",
       "      <td id=\"T_56ac0_row8_col0\" class=\"data row8 col0\" >4</td>\n",
       "      <td id=\"T_56ac0_row8_col1\" class=\"data row8 col1\" >1</td>\n",
       "      <td id=\"T_56ac0_row8_col2\" class=\"data row8 col2\" >5</td>\n",
       "      <td id=\"T_56ac0_row8_col3\" class=\"data row8 col3\" >2</td>\n",
       "      <td id=\"T_56ac0_row8_col4\" class=\"data row8 col4\" >5</td>\n",
       "      <td id=\"T_56ac0_row8_col5\" class=\"data row8 col5\" >0</td>\n",
       "    </tr>\n",
       "    <tr>\n",
       "      <th id=\"T_56ac0_level0_row9\" class=\"row_heading level0 row9\" >10</th>\n",
       "      <td id=\"T_56ac0_row9_col0\" class=\"data row9 col0\" >4</td>\n",
       "      <td id=\"T_56ac0_row9_col1\" class=\"data row9 col1\" >2</td>\n",
       "      <td id=\"T_56ac0_row9_col2\" class=\"data row9 col2\" >5</td>\n",
       "      <td id=\"T_56ac0_row9_col3\" class=\"data row9 col3\" >3</td>\n",
       "      <td id=\"T_56ac0_row9_col4\" class=\"data row9 col4\" >4</td>\n",
       "      <td id=\"T_56ac0_row9_col5\" class=\"data row9 col5\" >5</td>\n",
       "    </tr>\n",
       "    <tr>\n",
       "      <th id=\"T_56ac0_level0_row10\" class=\"row_heading level0 row10\" >11</th>\n",
       "      <td id=\"T_56ac0_row10_col0\" class=\"data row10 col0\" >4</td>\n",
       "      <td id=\"T_56ac0_row10_col1\" class=\"data row10 col1\" >0</td>\n",
       "      <td id=\"T_56ac0_row10_col2\" class=\"data row10 col2\" >3</td>\n",
       "      <td id=\"T_56ac0_row10_col3\" class=\"data row10 col3\" >4</td>\n",
       "      <td id=\"T_56ac0_row10_col4\" class=\"data row10 col4\" >3</td>\n",
       "      <td id=\"T_56ac0_row10_col5\" class=\"data row10 col5\" >2</td>\n",
       "    </tr>\n",
       "    <tr>\n",
       "      <th id=\"T_56ac0_level0_row11\" class=\"row_heading level0 row11\" >12</th>\n",
       "      <td id=\"T_56ac0_row11_col0\" class=\"data row11 col0\" >3</td>\n",
       "      <td id=\"T_56ac0_row11_col1\" class=\"data row11 col1\" >0</td>\n",
       "      <td id=\"T_56ac0_row11_col2\" class=\"data row11 col2\" >0</td>\n",
       "      <td id=\"T_56ac0_row11_col3\" class=\"data row11 col3\" >0</td>\n",
       "      <td id=\"T_56ac0_row11_col4\" class=\"data row11 col4\" >0</td>\n",
       "      <td id=\"T_56ac0_row11_col5\" class=\"data row11 col5\" >0</td>\n",
       "    </tr>\n",
       "    <tr>\n",
       "      <th id=\"T_56ac0_level0_row12\" class=\"row_heading level0 row12\" >13</th>\n",
       "      <td id=\"T_56ac0_row12_col0\" class=\"data row12 col0\" >4</td>\n",
       "      <td id=\"T_56ac0_row12_col1\" class=\"data row12 col1\" >1</td>\n",
       "      <td id=\"T_56ac0_row12_col2\" class=\"data row12 col2\" >2</td>\n",
       "      <td id=\"T_56ac0_row12_col3\" class=\"data row12 col3\" >1</td>\n",
       "      <td id=\"T_56ac0_row12_col4\" class=\"data row12 col4\" >2</td>\n",
       "      <td id=\"T_56ac0_row12_col5\" class=\"data row12 col5\" >2</td>\n",
       "    </tr>\n",
       "    <tr>\n",
       "      <th id=\"T_56ac0_level0_row13\" class=\"row_heading level0 row13\" >14</th>\n",
       "      <td id=\"T_56ac0_row13_col0\" class=\"data row13 col0\" >4</td>\n",
       "      <td id=\"T_56ac0_row13_col1\" class=\"data row13 col1\" >3</td>\n",
       "      <td id=\"T_56ac0_row13_col2\" class=\"data row13 col2\" >2</td>\n",
       "      <td id=\"T_56ac0_row13_col3\" class=\"data row13 col3\" >3</td>\n",
       "      <td id=\"T_56ac0_row13_col4\" class=\"data row13 col4\" >4</td>\n",
       "      <td id=\"T_56ac0_row13_col5\" class=\"data row13 col5\" >3</td>\n",
       "    </tr>\n",
       "    <tr>\n",
       "      <th id=\"T_56ac0_level0_row14\" class=\"row_heading level0 row14\" >15</th>\n",
       "      <td id=\"T_56ac0_row14_col0\" class=\"data row14 col0\" >4</td>\n",
       "      <td id=\"T_56ac0_row14_col1\" class=\"data row14 col1\" >2</td>\n",
       "      <td id=\"T_56ac0_row14_col2\" class=\"data row14 col2\" >3</td>\n",
       "      <td id=\"T_56ac0_row14_col3\" class=\"data row14 col3\" >1</td>\n",
       "      <td id=\"T_56ac0_row14_col4\" class=\"data row14 col4\" >2</td>\n",
       "      <td id=\"T_56ac0_row14_col5\" class=\"data row14 col5\" >1</td>\n",
       "    </tr>\n",
       "  </tbody>\n",
       "</table>\n"
      ],
      "text/plain": [
       "<pandas.io.formats.style.Styler at 0x2975b4f36a0>"
      ]
     },
     "execution_count": 4,
     "metadata": {},
     "output_type": "execute_result"
    }
   ],
   "source": [
    "prepareMovesTable(movesArr)"
   ]
  },
  {
   "cell_type": "markdown",
   "metadata": {},
   "source": [
    "## Wnioski z eksperymentów"
   ]
  },
  {
   "cell_type": "markdown",
   "metadata": {},
   "source": [
    "Na podstawie wyżej przeprowadzonych eksperymentów dostrzegamy, że w miarę wzrostu głębokości przeszukiwań, zgodnie z naszymi oczekiwaniami, efektywność algorytmu rośnie. Mimo to, jeśli zbadamy przebieg wartości zwracanych przez miniMax z różnymi parametrami, ruchy o lepszych jakościach nie zawsze są znajdowane przez minimax z najwyższą głębią. Wynika to z tego, że algorytm z wyższym parametrem był w stanie znaleźć taki stan, że ruchy które w chwili obecnej pozwoliły z heurystyki otrzymać więcej punktów, w kolejnych ruchach przeciwnika mogłyby prowadzić dla niego do przegranej. "
   ]
  },
  {
   "cell_type": "markdown",
   "metadata": {},
   "source": [
    "## Podsumowanie"
   ]
  },
  {
   "cell_type": "markdown",
   "metadata": {},
   "source": []
  }
 ],
 "metadata": {
  "kernelspec": {
   "display_name": "Python 3",
   "language": "python",
   "name": "python3"
  },
  "language_info": {
   "codemirror_mode": {
    "name": "ipython",
    "version": 3
   },
   "file_extension": ".py",
   "mimetype": "text/x-python",
   "name": "python",
   "nbconvert_exporter": "python",
   "pygments_lexer": "ipython3",
   "version": "3.10.5"
  }
 },
 "nbformat": 4,
 "nbformat_minor": 2
}
